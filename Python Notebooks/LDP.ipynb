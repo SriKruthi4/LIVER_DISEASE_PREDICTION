{
 "cells": [
  {
   "cell_type": "code",
   "execution_count": 1,
   "id": "1a24e395",
   "metadata": {},
   "outputs": [],
   "source": [
    "import pandas as pd\n",
    "import numpy as np\n",
    "import seaborn as sns\n",
    "import warnings\n",
    "import matplotlib.pyplot as plt\n",
    "from sklearn.model_selection import train_test_split\n",
    "from sklearn.metrics import accuracy_score\n",
    "from sklearn.metrics import classification_report, confusion_matrix\n",
    "from sklearn.linear_model import LogisticRegression\n",
    "from sklearn.ensemble import RandomForestClassifier\n",
    "from sklearn.naive_bayes import GaussianNB\n",
    "from sklearn.neural_network import MLPClassifier\n",
    "warnings.filterwarnings(\"ignore\")\n",
    "import joblib"
   ]
  },
  {
   "cell_type": "code",
   "execution_count": 4,
   "id": "f6f175e9",
   "metadata": {},
   "outputs": [],
   "source": [
    "df = pd.read_csv('liver_dataset.csv',encoding= 'unicode_escape')"
   ]
  },
  {
   "cell_type": "code",
   "execution_count": 5,
   "id": "523ee3b8",
   "metadata": {},
   "outputs": [
    {
     "data": {
      "text/plain": [
       "337601"
      ]
     },
     "execution_count": 5,
     "metadata": {},
     "output_type": "execute_result"
    }
   ],
   "source": [
    "df.size"
   ]
  },
  {
   "cell_type": "code",
   "execution_count": 6,
   "id": "d6984a85",
   "metadata": {},
   "outputs": [
    {
     "data": {
      "text/plain": [
       "Index(['Age of the patient', 'Gender of the patient', 'Total Bilirubin',\n",
       "       'Direct Bilirubin', 'Alkphos Alkaline Phosphotase',\n",
       "       'Sgpt Alamine Aminotransferase', 'Sgot Aspartate Aminotransferase',\n",
       "       'Total Protiens', 'ALB Albumin', 'A/G Ratio Albumin and Globulin Ratio',\n",
       "       'Result'],\n",
       "      dtype='object')"
      ]
     },
     "execution_count": 6,
     "metadata": {},
     "output_type": "execute_result"
    }
   ],
   "source": [
    "df.columns"
   ]
  },
  {
   "cell_type": "code",
   "execution_count": 31,
   "id": "35bfa28b",
   "metadata": {},
   "outputs": [
    {
     "data": {
      "text/plain": [
       "(30691, 11)"
      ]
     },
     "execution_count": 31,
     "metadata": {},
     "output_type": "execute_result"
    }
   ],
   "source": [
    "df.shape"
   ]
  },
  {
   "cell_type": "code",
   "execution_count": 32,
   "id": "3560ef20",
   "metadata": {},
   "outputs": [
    {
     "data": {
      "text/plain": [
       "11323"
      ]
     },
     "execution_count": 32,
     "metadata": {},
     "output_type": "execute_result"
    }
   ],
   "source": [
    "#checking_duplicates\n",
    "df.duplicated().sum()"
   ]
  },
  {
   "cell_type": "code",
   "execution_count": 33,
   "id": "05a188ea",
   "metadata": {},
   "outputs": [
    {
     "data": {
      "text/plain": [
       "(19368, 11)"
      ]
     },
     "execution_count": 33,
     "metadata": {},
     "output_type": "execute_result"
    }
   ],
   "source": [
    "#dropping the existing duplicates and printing shape\n",
    "df=df.drop_duplicates()\n",
    "df.shape"
   ]
  },
  {
   "cell_type": "code",
   "execution_count": 34,
   "id": "149ad6a8",
   "metadata": {},
   "outputs": [
    {
     "data": {
      "text/plain": [
       "Age of the patient                      float64\n",
       "Gender of the patient                    object\n",
       "Total Bilirubin                         float64\n",
       "Direct Bilirubin                        float64\n",
       "Alkphos Alkaline Phosphotase            float64\n",
       "Sgpt Alamine Aminotransferase           float64\n",
       "Sgot Aspartate Aminotransferase         float64\n",
       "Total Protiens                          float64\n",
       "ALB Albumin                             float64\n",
       "A/G Ratio Albumin and Globulin Ratio    float64\n",
       "Result                                    int64\n",
       "dtype: object"
      ]
     },
     "execution_count": 34,
     "metadata": {},
     "output_type": "execute_result"
    }
   ],
   "source": [
    "df.dtypes"
   ]
  },
  {
   "cell_type": "code",
   "execution_count": 9,
   "id": "12025be8",
   "metadata": {},
   "outputs": [
    {
     "data": {
      "text/html": [
       "<div>\n",
       "<style scoped>\n",
       "    .dataframe tbody tr th:only-of-type {\n",
       "        vertical-align: middle;\n",
       "    }\n",
       "\n",
       "    .dataframe tbody tr th {\n",
       "        vertical-align: top;\n",
       "    }\n",
       "\n",
       "    .dataframe thead th {\n",
       "        text-align: right;\n",
       "    }\n",
       "</style>\n",
       "<table border=\"1\" class=\"dataframe\">\n",
       "  <thead>\n",
       "    <tr style=\"text-align: right;\">\n",
       "      <th></th>\n",
       "      <th>Age of the patient</th>\n",
       "      <th>Gender of the patient</th>\n",
       "      <th>Total Bilirubin</th>\n",
       "      <th>Direct Bilirubin</th>\n",
       "      <th>Alkphos Alkaline Phosphotase</th>\n",
       "      <th>Sgpt Alamine Aminotransferase</th>\n",
       "      <th>Sgot Aspartate Aminotransferase</th>\n",
       "      <th>Total Protiens</th>\n",
       "      <th>ALB Albumin</th>\n",
       "      <th>A/G Ratio Albumin and Globulin Ratio</th>\n",
       "      <th>Result</th>\n",
       "    </tr>\n",
       "  </thead>\n",
       "  <tbody>\n",
       "    <tr>\n",
       "      <th>0</th>\n",
       "      <td>65.0</td>\n",
       "      <td>Female</td>\n",
       "      <td>0.7</td>\n",
       "      <td>0.1</td>\n",
       "      <td>187.0</td>\n",
       "      <td>16.0</td>\n",
       "      <td>18.0</td>\n",
       "      <td>6.8</td>\n",
       "      <td>3.3</td>\n",
       "      <td>0.90</td>\n",
       "      <td>1</td>\n",
       "    </tr>\n",
       "    <tr>\n",
       "      <th>1</th>\n",
       "      <td>62.0</td>\n",
       "      <td>Male</td>\n",
       "      <td>10.9</td>\n",
       "      <td>5.5</td>\n",
       "      <td>699.0</td>\n",
       "      <td>64.0</td>\n",
       "      <td>100.0</td>\n",
       "      <td>7.5</td>\n",
       "      <td>3.2</td>\n",
       "      <td>0.74</td>\n",
       "      <td>1</td>\n",
       "    </tr>\n",
       "    <tr>\n",
       "      <th>2</th>\n",
       "      <td>62.0</td>\n",
       "      <td>Male</td>\n",
       "      <td>7.3</td>\n",
       "      <td>4.1</td>\n",
       "      <td>490.0</td>\n",
       "      <td>60.0</td>\n",
       "      <td>68.0</td>\n",
       "      <td>7.0</td>\n",
       "      <td>3.3</td>\n",
       "      <td>0.89</td>\n",
       "      <td>1</td>\n",
       "    </tr>\n",
       "    <tr>\n",
       "      <th>3</th>\n",
       "      <td>58.0</td>\n",
       "      <td>Male</td>\n",
       "      <td>1.0</td>\n",
       "      <td>0.4</td>\n",
       "      <td>182.0</td>\n",
       "      <td>14.0</td>\n",
       "      <td>20.0</td>\n",
       "      <td>6.8</td>\n",
       "      <td>3.4</td>\n",
       "      <td>1.00</td>\n",
       "      <td>1</td>\n",
       "    </tr>\n",
       "  </tbody>\n",
       "</table>\n",
       "</div>"
      ],
      "text/plain": [
       "   Age of the patient Gender of the patient  Total Bilirubin  \\\n",
       "0                65.0                Female              0.7   \n",
       "1                62.0                  Male             10.9   \n",
       "2                62.0                  Male              7.3   \n",
       "3                58.0                  Male              1.0   \n",
       "\n",
       "   Direct Bilirubin  Alkphos Alkaline Phosphotase  \\\n",
       "0               0.1                         187.0   \n",
       "1               5.5                         699.0   \n",
       "2               4.1                         490.0   \n",
       "3               0.4                         182.0   \n",
       "\n",
       "   Sgpt Alamine Aminotransferase  Sgot Aspartate Aminotransferase  \\\n",
       "0                           16.0                             18.0   \n",
       "1                           64.0                            100.0   \n",
       "2                           60.0                             68.0   \n",
       "3                           14.0                             20.0   \n",
       "\n",
       "   Total Protiens  ALB Albumin  A/G Ratio Albumin and Globulin Ratio  Result  \n",
       "0             6.8          3.3                                  0.90       1  \n",
       "1             7.5          3.2                                  0.74       1  \n",
       "2             7.0          3.3                                  0.89       1  \n",
       "3             6.8          3.4                                  1.00       1  "
      ]
     },
     "execution_count": 9,
     "metadata": {},
     "output_type": "execute_result"
    }
   ],
   "source": [
    "df.head(4)"
   ]
  },
  {
   "cell_type": "code",
   "execution_count": 36,
   "id": "8d3f43e3",
   "metadata": {},
   "outputs": [
    {
     "data": {
      "text/html": [
       "<div>\n",
       "<style scoped>\n",
       "    .dataframe tbody tr th:only-of-type {\n",
       "        vertical-align: middle;\n",
       "    }\n",
       "\n",
       "    .dataframe tbody tr th {\n",
       "        vertical-align: top;\n",
       "    }\n",
       "\n",
       "    .dataframe thead th {\n",
       "        text-align: right;\n",
       "    }\n",
       "</style>\n",
       "<table border=\"1\" class=\"dataframe\">\n",
       "  <thead>\n",
       "    <tr style=\"text-align: right;\">\n",
       "      <th></th>\n",
       "      <th>Age of the patient</th>\n",
       "      <th>Gender of the patient</th>\n",
       "      <th>Total Bilirubin</th>\n",
       "      <th>Direct Bilirubin</th>\n",
       "      <th>Alkphos Alkaline Phosphotase</th>\n",
       "      <th>Sgpt Alamine Aminotransferase</th>\n",
       "      <th>Sgot Aspartate Aminotransferase</th>\n",
       "      <th>Total Protiens</th>\n",
       "      <th>ALB Albumin</th>\n",
       "      <th>A/G Ratio Albumin and Globulin Ratio</th>\n",
       "      <th>Result</th>\n",
       "    </tr>\n",
       "  </thead>\n",
       "  <tbody>\n",
       "    <tr>\n",
       "      <th>29976</th>\n",
       "      <td>28.0</td>\n",
       "      <td>Male</td>\n",
       "      <td>1.9</td>\n",
       "      <td>1.0</td>\n",
       "      <td>231.0</td>\n",
       "      <td>16.0</td>\n",
       "      <td>55.0</td>\n",
       "      <td>4.3</td>\n",
       "      <td>1.6</td>\n",
       "      <td>0.60</td>\n",
       "      <td>1</td>\n",
       "    </tr>\n",
       "    <tr>\n",
       "      <th>30686</th>\n",
       "      <td>50.0</td>\n",
       "      <td>Male</td>\n",
       "      <td>2.2</td>\n",
       "      <td>1.0</td>\n",
       "      <td>610.0</td>\n",
       "      <td>17.0</td>\n",
       "      <td>28.0</td>\n",
       "      <td>7.3</td>\n",
       "      <td>2.6</td>\n",
       "      <td>0.55</td>\n",
       "      <td>1</td>\n",
       "    </tr>\n",
       "    <tr>\n",
       "      <th>30688</th>\n",
       "      <td>54.0</td>\n",
       "      <td>Male</td>\n",
       "      <td>6.8</td>\n",
       "      <td>3.0</td>\n",
       "      <td>542.0</td>\n",
       "      <td>116.0</td>\n",
       "      <td>66.0</td>\n",
       "      <td>6.4</td>\n",
       "      <td>3.1</td>\n",
       "      <td>0.90</td>\n",
       "      <td>1</td>\n",
       "    </tr>\n",
       "    <tr>\n",
       "      <th>30689</th>\n",
       "      <td>48.0</td>\n",
       "      <td>Female</td>\n",
       "      <td>1.9</td>\n",
       "      <td>1.0</td>\n",
       "      <td>231.0</td>\n",
       "      <td>16.0</td>\n",
       "      <td>55.0</td>\n",
       "      <td>4.3</td>\n",
       "      <td>1.6</td>\n",
       "      <td>0.60</td>\n",
       "      <td>1</td>\n",
       "    </tr>\n",
       "  </tbody>\n",
       "</table>\n",
       "</div>"
      ],
      "text/plain": [
       "       Age of the patient Gender of the patient  Total Bilirubin  \\\n",
       "29976                28.0                  Male              1.9   \n",
       "30686                50.0                  Male              2.2   \n",
       "30688                54.0                  Male              6.8   \n",
       "30689                48.0                Female              1.9   \n",
       "\n",
       "       Direct Bilirubin  Alkphos Alkaline Phosphotase  \\\n",
       "29976               1.0                         231.0   \n",
       "30686               1.0                         610.0   \n",
       "30688               3.0                         542.0   \n",
       "30689               1.0                         231.0   \n",
       "\n",
       "       Sgpt Alamine Aminotransferase  Sgot Aspartate Aminotransferase  \\\n",
       "29976                           16.0                             55.0   \n",
       "30686                           17.0                             28.0   \n",
       "30688                          116.0                             66.0   \n",
       "30689                           16.0                             55.0   \n",
       "\n",
       "       Total Protiens  ALB Albumin  A/G Ratio Albumin and Globulin Ratio  \\\n",
       "29976             4.3          1.6                                  0.60   \n",
       "30686             7.3          2.6                                  0.55   \n",
       "30688             6.4          3.1                                  0.90   \n",
       "30689             4.3          1.6                                  0.60   \n",
       "\n",
       "       Result  \n",
       "29976       1  \n",
       "30686       1  \n",
       "30688       1  \n",
       "30689       1  "
      ]
     },
     "execution_count": 36,
     "metadata": {},
     "output_type": "execute_result"
    }
   ],
   "source": [
    "df.tail(4)"
   ]
  },
  {
   "cell_type": "code",
   "execution_count": 37,
   "id": "0e49fc81",
   "metadata": {},
   "outputs": [
    {
     "name": "stdout",
     "output_type": "stream",
     "text": [
      "<class 'pandas.core.frame.DataFrame'>\n",
      "Int64Index: 19368 entries, 0 to 30689\n",
      "Data columns (total 11 columns):\n",
      " #   Column                                Non-Null Count  Dtype  \n",
      "---  ------                                --------------  -----  \n",
      " 0   Age of the patient                    19367 non-null  float64\n",
      " 1   Gender of the patient                 18572 non-null  object \n",
      " 2   Total Bilirubin                       18811 non-null  float64\n",
      " 3   Direct Bilirubin                      18878 non-null  float64\n",
      " 4   Alkphos Alkaline Phosphotase          18674 non-null  float64\n",
      " 5   Sgpt Alamine Aminotransferase         18909 non-null  float64\n",
      " 6   Sgot Aspartate Aminotransferase       18975 non-null  float64\n",
      " 7   Total Protiens                        18998 non-null  float64\n",
      " 8   ALB Albumin                           18955 non-null  float64\n",
      " 9   A/G Ratio Albumin and Globulin Ratio  18932 non-null  float64\n",
      " 10  Result                                19368 non-null  int64  \n",
      "dtypes: float64(9), int64(1), object(1)\n",
      "memory usage: 1.8+ MB\n"
     ]
    }
   ],
   "source": [
    "df.info()"
   ]
  },
  {
   "cell_type": "code",
   "execution_count": 38,
   "id": "266be1c0",
   "metadata": {},
   "outputs": [
    {
     "data": {
      "text/html": [
       "<div>\n",
       "<style scoped>\n",
       "    .dataframe tbody tr th:only-of-type {\n",
       "        vertical-align: middle;\n",
       "    }\n",
       "\n",
       "    .dataframe tbody tr th {\n",
       "        vertical-align: top;\n",
       "    }\n",
       "\n",
       "    .dataframe thead th {\n",
       "        text-align: right;\n",
       "    }\n",
       "</style>\n",
       "<table border=\"1\" class=\"dataframe\">\n",
       "  <thead>\n",
       "    <tr style=\"text-align: right;\">\n",
       "      <th></th>\n",
       "      <th>Age of the patient</th>\n",
       "      <th>Total Bilirubin</th>\n",
       "      <th>Direct Bilirubin</th>\n",
       "      <th>Alkphos Alkaline Phosphotase</th>\n",
       "      <th>Sgpt Alamine Aminotransferase</th>\n",
       "      <th>Sgot Aspartate Aminotransferase</th>\n",
       "      <th>Total Protiens</th>\n",
       "      <th>ALB Albumin</th>\n",
       "      <th>A/G Ratio Albumin and Globulin Ratio</th>\n",
       "      <th>Result</th>\n",
       "    </tr>\n",
       "  </thead>\n",
       "  <tbody>\n",
       "    <tr>\n",
       "      <th>count</th>\n",
       "      <td>19367.000000</td>\n",
       "      <td>18811.000000</td>\n",
       "      <td>18878.000000</td>\n",
       "      <td>18674.000000</td>\n",
       "      <td>18909.000000</td>\n",
       "      <td>18975.000000</td>\n",
       "      <td>18998.000000</td>\n",
       "      <td>18955.000000</td>\n",
       "      <td>18932.000000</td>\n",
       "      <td>19368.000000</td>\n",
       "    </tr>\n",
       "    <tr>\n",
       "      <th>mean</th>\n",
       "      <td>43.809986</td>\n",
       "      <td>3.315767</td>\n",
       "      <td>1.515637</td>\n",
       "      <td>289.407411</td>\n",
       "      <td>80.598762</td>\n",
       "      <td>110.790672</td>\n",
       "      <td>6.494326</td>\n",
       "      <td>3.141045</td>\n",
       "      <td>0.945888</td>\n",
       "      <td>1.286917</td>\n",
       "    </tr>\n",
       "    <tr>\n",
       "      <th>std</th>\n",
       "      <td>16.454988</td>\n",
       "      <td>6.111851</td>\n",
       "      <td>2.863609</td>\n",
       "      <td>239.727272</td>\n",
       "      <td>181.134634</td>\n",
       "      <td>278.927937</td>\n",
       "      <td>1.089985</td>\n",
       "      <td>0.793602</td>\n",
       "      <td>0.322023</td>\n",
       "      <td>0.452334</td>\n",
       "    </tr>\n",
       "    <tr>\n",
       "      <th>min</th>\n",
       "      <td>4.000000</td>\n",
       "      <td>0.400000</td>\n",
       "      <td>0.100000</td>\n",
       "      <td>63.000000</td>\n",
       "      <td>10.000000</td>\n",
       "      <td>10.000000</td>\n",
       "      <td>2.700000</td>\n",
       "      <td>0.900000</td>\n",
       "      <td>0.300000</td>\n",
       "      <td>1.000000</td>\n",
       "    </tr>\n",
       "    <tr>\n",
       "      <th>25%</th>\n",
       "      <td>32.000000</td>\n",
       "      <td>0.800000</td>\n",
       "      <td>0.200000</td>\n",
       "      <td>175.000000</td>\n",
       "      <td>23.000000</td>\n",
       "      <td>25.000000</td>\n",
       "      <td>5.800000</td>\n",
       "      <td>2.600000</td>\n",
       "      <td>0.700000</td>\n",
       "      <td>1.000000</td>\n",
       "    </tr>\n",
       "    <tr>\n",
       "      <th>50%</th>\n",
       "      <td>45.000000</td>\n",
       "      <td>1.000000</td>\n",
       "      <td>0.300000</td>\n",
       "      <td>208.000000</td>\n",
       "      <td>35.000000</td>\n",
       "      <td>42.000000</td>\n",
       "      <td>6.600000</td>\n",
       "      <td>3.100000</td>\n",
       "      <td>0.930000</td>\n",
       "      <td>1.000000</td>\n",
       "    </tr>\n",
       "    <tr>\n",
       "      <th>75%</th>\n",
       "      <td>55.000000</td>\n",
       "      <td>2.600000</td>\n",
       "      <td>1.300000</td>\n",
       "      <td>298.000000</td>\n",
       "      <td>61.000000</td>\n",
       "      <td>88.000000</td>\n",
       "      <td>7.200000</td>\n",
       "      <td>3.800000</td>\n",
       "      <td>1.100000</td>\n",
       "      <td>2.000000</td>\n",
       "    </tr>\n",
       "    <tr>\n",
       "      <th>max</th>\n",
       "      <td>90.000000</td>\n",
       "      <td>75.000000</td>\n",
       "      <td>19.700000</td>\n",
       "      <td>2110.000000</td>\n",
       "      <td>2000.000000</td>\n",
       "      <td>4929.000000</td>\n",
       "      <td>9.600000</td>\n",
       "      <td>5.500000</td>\n",
       "      <td>2.800000</td>\n",
       "      <td>2.000000</td>\n",
       "    </tr>\n",
       "  </tbody>\n",
       "</table>\n",
       "</div>"
      ],
      "text/plain": [
       "       Age of the patient  Total Bilirubin  Direct Bilirubin  \\\n",
       "count        19367.000000     18811.000000      18878.000000   \n",
       "mean            43.809986         3.315767          1.515637   \n",
       "std             16.454988         6.111851          2.863609   \n",
       "min              4.000000         0.400000          0.100000   \n",
       "25%             32.000000         0.800000          0.200000   \n",
       "50%             45.000000         1.000000          0.300000   \n",
       "75%             55.000000         2.600000          1.300000   \n",
       "max             90.000000        75.000000         19.700000   \n",
       "\n",
       "       Alkphos Alkaline Phosphotase  Sgpt Alamine Aminotransferase  \\\n",
       "count                  18674.000000                   18909.000000   \n",
       "mean                     289.407411                      80.598762   \n",
       "std                      239.727272                     181.134634   \n",
       "min                       63.000000                      10.000000   \n",
       "25%                      175.000000                      23.000000   \n",
       "50%                      208.000000                      35.000000   \n",
       "75%                      298.000000                      61.000000   \n",
       "max                     2110.000000                    2000.000000   \n",
       "\n",
       "       Sgot Aspartate Aminotransferase  Total Protiens   ALB Albumin  \\\n",
       "count                     18975.000000    18998.000000  18955.000000   \n",
       "mean                        110.790672        6.494326      3.141045   \n",
       "std                         278.927937        1.089985      0.793602   \n",
       "min                          10.000000        2.700000      0.900000   \n",
       "25%                          25.000000        5.800000      2.600000   \n",
       "50%                          42.000000        6.600000      3.100000   \n",
       "75%                          88.000000        7.200000      3.800000   \n",
       "max                        4929.000000        9.600000      5.500000   \n",
       "\n",
       "       A/G Ratio Albumin and Globulin Ratio        Result  \n",
       "count                          18932.000000  19368.000000  \n",
       "mean                               0.945888      1.286917  \n",
       "std                                0.322023      0.452334  \n",
       "min                                0.300000      1.000000  \n",
       "25%                                0.700000      1.000000  \n",
       "50%                                0.930000      1.000000  \n",
       "75%                                1.100000      2.000000  \n",
       "max                                2.800000      2.000000  "
      ]
     },
     "execution_count": 38,
     "metadata": {},
     "output_type": "execute_result"
    }
   ],
   "source": [
    "df.describe()"
   ]
  },
  {
   "cell_type": "code",
   "execution_count": 39,
   "id": "e760d6b9",
   "metadata": {},
   "outputs": [
    {
     "data": {
      "text/html": [
       "<div>\n",
       "<style scoped>\n",
       "    .dataframe tbody tr th:only-of-type {\n",
       "        vertical-align: middle;\n",
       "    }\n",
       "\n",
       "    .dataframe tbody tr th {\n",
       "        vertical-align: top;\n",
       "    }\n",
       "\n",
       "    .dataframe thead th {\n",
       "        text-align: right;\n",
       "    }\n",
       "</style>\n",
       "<table border=\"1\" class=\"dataframe\">\n",
       "  <thead>\n",
       "    <tr style=\"text-align: right;\">\n",
       "      <th></th>\n",
       "      <th>Age of the patient</th>\n",
       "      <th>Gender of the patient</th>\n",
       "      <th>Total Bilirubin</th>\n",
       "      <th>Direct Bilirubin</th>\n",
       "      <th>Alkphos Alkaline Phosphotase</th>\n",
       "      <th>Sgpt Alamine Aminotransferase</th>\n",
       "      <th>Sgot Aspartate Aminotransferase</th>\n",
       "      <th>Total Protiens</th>\n",
       "      <th>ALB Albumin</th>\n",
       "      <th>A/G Ratio Albumin and Globulin Ratio</th>\n",
       "      <th>Result</th>\n",
       "    </tr>\n",
       "  </thead>\n",
       "  <tbody>\n",
       "    <tr>\n",
       "      <th>0</th>\n",
       "      <td>False</td>\n",
       "      <td>False</td>\n",
       "      <td>False</td>\n",
       "      <td>False</td>\n",
       "      <td>False</td>\n",
       "      <td>False</td>\n",
       "      <td>False</td>\n",
       "      <td>False</td>\n",
       "      <td>False</td>\n",
       "      <td>False</td>\n",
       "      <td>False</td>\n",
       "    </tr>\n",
       "    <tr>\n",
       "      <th>1</th>\n",
       "      <td>False</td>\n",
       "      <td>False</td>\n",
       "      <td>False</td>\n",
       "      <td>False</td>\n",
       "      <td>False</td>\n",
       "      <td>False</td>\n",
       "      <td>False</td>\n",
       "      <td>False</td>\n",
       "      <td>False</td>\n",
       "      <td>False</td>\n",
       "      <td>False</td>\n",
       "    </tr>\n",
       "    <tr>\n",
       "      <th>2</th>\n",
       "      <td>False</td>\n",
       "      <td>False</td>\n",
       "      <td>False</td>\n",
       "      <td>False</td>\n",
       "      <td>False</td>\n",
       "      <td>False</td>\n",
       "      <td>False</td>\n",
       "      <td>False</td>\n",
       "      <td>False</td>\n",
       "      <td>False</td>\n",
       "      <td>False</td>\n",
       "    </tr>\n",
       "    <tr>\n",
       "      <th>3</th>\n",
       "      <td>False</td>\n",
       "      <td>False</td>\n",
       "      <td>False</td>\n",
       "      <td>False</td>\n",
       "      <td>False</td>\n",
       "      <td>False</td>\n",
       "      <td>False</td>\n",
       "      <td>False</td>\n",
       "      <td>False</td>\n",
       "      <td>False</td>\n",
       "      <td>False</td>\n",
       "    </tr>\n",
       "    <tr>\n",
       "      <th>4</th>\n",
       "      <td>False</td>\n",
       "      <td>False</td>\n",
       "      <td>False</td>\n",
       "      <td>False</td>\n",
       "      <td>False</td>\n",
       "      <td>False</td>\n",
       "      <td>False</td>\n",
       "      <td>False</td>\n",
       "      <td>False</td>\n",
       "      <td>False</td>\n",
       "      <td>False</td>\n",
       "    </tr>\n",
       "    <tr>\n",
       "      <th>...</th>\n",
       "      <td>...</td>\n",
       "      <td>...</td>\n",
       "      <td>...</td>\n",
       "      <td>...</td>\n",
       "      <td>...</td>\n",
       "      <td>...</td>\n",
       "      <td>...</td>\n",
       "      <td>...</td>\n",
       "      <td>...</td>\n",
       "      <td>...</td>\n",
       "      <td>...</td>\n",
       "    </tr>\n",
       "    <tr>\n",
       "      <th>29974</th>\n",
       "      <td>False</td>\n",
       "      <td>False</td>\n",
       "      <td>False</td>\n",
       "      <td>False</td>\n",
       "      <td>False</td>\n",
       "      <td>False</td>\n",
       "      <td>False</td>\n",
       "      <td>False</td>\n",
       "      <td>False</td>\n",
       "      <td>False</td>\n",
       "      <td>False</td>\n",
       "    </tr>\n",
       "    <tr>\n",
       "      <th>29976</th>\n",
       "      <td>False</td>\n",
       "      <td>False</td>\n",
       "      <td>False</td>\n",
       "      <td>False</td>\n",
       "      <td>False</td>\n",
       "      <td>False</td>\n",
       "      <td>False</td>\n",
       "      <td>False</td>\n",
       "      <td>False</td>\n",
       "      <td>False</td>\n",
       "      <td>False</td>\n",
       "    </tr>\n",
       "    <tr>\n",
       "      <th>30686</th>\n",
       "      <td>False</td>\n",
       "      <td>False</td>\n",
       "      <td>False</td>\n",
       "      <td>False</td>\n",
       "      <td>False</td>\n",
       "      <td>False</td>\n",
       "      <td>False</td>\n",
       "      <td>False</td>\n",
       "      <td>False</td>\n",
       "      <td>False</td>\n",
       "      <td>False</td>\n",
       "    </tr>\n",
       "    <tr>\n",
       "      <th>30688</th>\n",
       "      <td>False</td>\n",
       "      <td>False</td>\n",
       "      <td>False</td>\n",
       "      <td>False</td>\n",
       "      <td>False</td>\n",
       "      <td>False</td>\n",
       "      <td>False</td>\n",
       "      <td>False</td>\n",
       "      <td>False</td>\n",
       "      <td>False</td>\n",
       "      <td>False</td>\n",
       "    </tr>\n",
       "    <tr>\n",
       "      <th>30689</th>\n",
       "      <td>False</td>\n",
       "      <td>False</td>\n",
       "      <td>False</td>\n",
       "      <td>False</td>\n",
       "      <td>False</td>\n",
       "      <td>False</td>\n",
       "      <td>False</td>\n",
       "      <td>False</td>\n",
       "      <td>False</td>\n",
       "      <td>False</td>\n",
       "      <td>False</td>\n",
       "    </tr>\n",
       "  </tbody>\n",
       "</table>\n",
       "<p>19368 rows × 11 columns</p>\n",
       "</div>"
      ],
      "text/plain": [
       "       Age of the patient  Gender of the patient  Total Bilirubin  \\\n",
       "0                   False                  False            False   \n",
       "1                   False                  False            False   \n",
       "2                   False                  False            False   \n",
       "3                   False                  False            False   \n",
       "4                   False                  False            False   \n",
       "...                   ...                    ...              ...   \n",
       "29974               False                  False            False   \n",
       "29976               False                  False            False   \n",
       "30686               False                  False            False   \n",
       "30688               False                  False            False   \n",
       "30689               False                  False            False   \n",
       "\n",
       "       Direct Bilirubin  Alkphos Alkaline Phosphotase  \\\n",
       "0                 False                         False   \n",
       "1                 False                         False   \n",
       "2                 False                         False   \n",
       "3                 False                         False   \n",
       "4                 False                         False   \n",
       "...                 ...                           ...   \n",
       "29974             False                         False   \n",
       "29976             False                         False   \n",
       "30686             False                         False   \n",
       "30688             False                         False   \n",
       "30689             False                         False   \n",
       "\n",
       "       Sgpt Alamine Aminotransferase  Sgot Aspartate Aminotransferase  \\\n",
       "0                              False                            False   \n",
       "1                              False                            False   \n",
       "2                              False                            False   \n",
       "3                              False                            False   \n",
       "4                              False                            False   \n",
       "...                              ...                              ...   \n",
       "29974                          False                            False   \n",
       "29976                          False                            False   \n",
       "30686                          False                            False   \n",
       "30688                          False                            False   \n",
       "30689                          False                            False   \n",
       "\n",
       "       Total Protiens  ALB Albumin  A/G Ratio Albumin and Globulin Ratio  \\\n",
       "0               False        False                                 False   \n",
       "1               False        False                                 False   \n",
       "2               False        False                                 False   \n",
       "3               False        False                                 False   \n",
       "4               False        False                                 False   \n",
       "...               ...          ...                                   ...   \n",
       "29974           False        False                                 False   \n",
       "29976           False        False                                 False   \n",
       "30686           False        False                                 False   \n",
       "30688           False        False                                 False   \n",
       "30689           False        False                                 False   \n",
       "\n",
       "       Result  \n",
       "0       False  \n",
       "1       False  \n",
       "2       False  \n",
       "3       False  \n",
       "4       False  \n",
       "...       ...  \n",
       "29974   False  \n",
       "29976   False  \n",
       "30686   False  \n",
       "30688   False  \n",
       "30689   False  \n",
       "\n",
       "[19368 rows x 11 columns]"
      ]
     },
     "execution_count": 39,
     "metadata": {},
     "output_type": "execute_result"
    }
   ],
   "source": [
    "df.isnull()"
   ]
  },
  {
   "cell_type": "code",
   "execution_count": 40,
   "id": "cb116e1b",
   "metadata": {},
   "outputs": [
    {
     "data": {
      "text/plain": [
       "Age of the patient                        1\n",
       "Gender of the patient                   796\n",
       "Total Bilirubin                         557\n",
       "Direct Bilirubin                        490\n",
       "Alkphos Alkaline Phosphotase            694\n",
       "Sgpt Alamine Aminotransferase           459\n",
       "Sgot Aspartate Aminotransferase         393\n",
       "Total Protiens                          370\n",
       "ALB Albumin                             413\n",
       "A/G Ratio Albumin and Globulin Ratio    436\n",
       "Result                                    0\n",
       "dtype: int64"
      ]
     },
     "execution_count": 40,
     "metadata": {},
     "output_type": "execute_result"
    }
   ],
   "source": [
    "#checking if null values are present\n",
    "df.isnull().sum()"
   ]
  },
  {
   "cell_type": "code",
   "execution_count": 41,
   "id": "3da2c244",
   "metadata": {},
   "outputs": [],
   "source": [
    "df.columns = df.columns.str.replace(' ','_')"
   ]
  },
  {
   "cell_type": "code",
   "execution_count": 42,
   "id": "16598959",
   "metadata": {},
   "outputs": [
    {
     "data": {
      "text/plain": [
       "Index(['Age_of_the_patient', 'Gender_of_the_patient', 'Total_Bilirubin',\n",
       "       'Direct_Bilirubin', 'Alkphos_Alkaline_Phosphotase',\n",
       "       'Sgpt_Alamine_Aminotransferase', 'Sgot_Aspartate_Aminotransferase',\n",
       "       'Total_Protiens', 'ALB_Albumin', 'A/G_Ratio_Albumin_and_Globulin_Ratio',\n",
       "       'Result'],\n",
       "      dtype='object')"
      ]
     },
     "execution_count": 42,
     "metadata": {},
     "output_type": "execute_result"
    }
   ],
   "source": [
    "df.columns"
   ]
  },
  {
   "cell_type": "code",
   "execution_count": 43,
   "id": "2b5d1b2d",
   "metadata": {},
   "outputs": [],
   "source": [
    "df.Gender_of_the_patient=df.Gender_of_the_patient.map({'Female':1,'Male':0})"
   ]
  },
  {
   "cell_type": "code",
   "execution_count": 44,
   "id": "a3ff5489",
   "metadata": {},
   "outputs": [
    {
     "data": {
      "text/plain": [
       "Age_of_the_patient                      float64\n",
       "Gender_of_the_patient                   float64\n",
       "Total_Bilirubin                         float64\n",
       "Direct_Bilirubin                        float64\n",
       "Alkphos_Alkaline_Phosphotase            float64\n",
       "Sgpt_Alamine_Aminotransferase           float64\n",
       "Sgot_Aspartate_Aminotransferase         float64\n",
       "Total_Protiens                          float64\n",
       "ALB_Albumin                             float64\n",
       "A/G_Ratio_Albumin_and_Globulin_Ratio    float64\n",
       "Result                                    int64\n",
       "dtype: object"
      ]
     },
     "execution_count": 44,
     "metadata": {},
     "output_type": "execute_result"
    }
   ],
   "source": [
    "df.dtypes"
   ]
  },
  {
   "cell_type": "code",
   "execution_count": 45,
   "id": "baaf3277",
   "metadata": {},
   "outputs": [
    {
     "data": {
      "text/plain": [
       "Age_of_the_patient                        1\n",
       "Gender_of_the_patient                   796\n",
       "Total_Bilirubin                         557\n",
       "Direct_Bilirubin                        490\n",
       "Alkphos_Alkaline_Phosphotase            694\n",
       "Sgpt_Alamine_Aminotransferase           459\n",
       "Sgot_Aspartate_Aminotransferase         393\n",
       "Total_Protiens                          370\n",
       "ALB_Albumin                             413\n",
       "A/G_Ratio_Albumin_and_Globulin_Ratio    436\n",
       "Result                                    0\n",
       "dtype: int64"
      ]
     },
     "execution_count": 45,
     "metadata": {},
     "output_type": "execute_result"
    }
   ],
   "source": [
    "df.isnull().sum()"
   ]
  },
  {
   "cell_type": "code",
   "execution_count": 46,
   "id": "759f85b2",
   "metadata": {},
   "outputs": [
    {
     "data": {
      "text/plain": [
       "Age_of_the_patient                 float64\n",
       "Gender_of_the_patient              float64\n",
       "Total_Bilirubin                    float64\n",
       "Direct_Bilirubin                   float64\n",
       "Alkphos_Alkaline_Phosphotase       float64\n",
       "Sgpt_Alamine_Aminotransferase      float64\n",
       "Sgot_Aspartate_Aminotransferase    float64\n",
       "Total_Protiens                     float64\n",
       "ALB_Albumin                        float64\n",
       "AbyG_Ratio                         float64\n",
       "Result                               int64\n",
       "dtype: object"
      ]
     },
     "execution_count": 46,
     "metadata": {},
     "output_type": "execute_result"
    }
   ],
   "source": [
    "df.fillna(df.Gender_of_the_patient.median(),inplace=True)\n",
    "df.Total_Bilirubin.fillna(df.Total_Bilirubin.median(),inplace=True)\n",
    "df.Direct_Bilirubin.fillna(df.Direct_Bilirubin.median(),inplace=True)\n",
    "df.Alkphos_Alkaline_Phosphotase.fillna(df.Alkphos_Alkaline_Phosphotase.median(),inplace=True)\n",
    "df.Sgpt_Alamine_Aminotran sferase.fillna(df.Sgpt_Alamine_Aminotransferase.median(),inplace=True)\n",
    "df.Sgot_Aspartate_Aminotransferase.fillna(df.Sgot_Aspartate_Aminotransferase.median(),inplace=True)\n",
    "df.Total_Protiens.fillna(df.Total_Protiens.median(),inplace=True)\n",
    "df.ALB_Albumin.fillna(df.ALB_Albumin.median(),inplace=True)\n",
    "df.rename(columns = {'A/G_Ratio_Albumin_and_Globulin_Ratio':'AbyG_Ratio'}, inplace = True)\n",
    "df.AbyG_Ratio.fillna(df.AbyG_Ratio.median(),inplace=True)\n",
    "df.dtypes"
   ]
  },
  {
   "cell_type": "code",
   "execution_count": 47,
   "id": "f3727b8d",
   "metadata": {},
   "outputs": [
    {
     "data": {
      "text/plain": [
       "Age_of_the_patient                 0\n",
       "Gender_of_the_patient              0\n",
       "Total_Bilirubin                    0\n",
       "Direct_Bilirubin                   0\n",
       "Alkphos_Alkaline_Phosphotase       0\n",
       "Sgpt_Alamine_Aminotransferase      0\n",
       "Sgot_Aspartate_Aminotransferase    0\n",
       "Total_Protiens                     0\n",
       "ALB_Albumin                        0\n",
       "AbyG_Ratio                         0\n",
       "Result                             0\n",
       "dtype: int64"
      ]
     },
     "execution_count": 47,
     "metadata": {},
     "output_type": "execute_result"
    }
   ],
   "source": [
    "df.isnull().sum()"
   ]
  },
  {
   "cell_type": "code",
   "execution_count": 48,
   "id": "416bc269",
   "metadata": {},
   "outputs": [],
   "source": [
    "#Gender is dropped\n",
    "X =df.drop(['Gender_of_the_patient','Result'], axis=1)\n",
    "Y=df['Result']"
   ]
  },
  {
   "cell_type": "code",
   "execution_count": 49,
   "id": "ab2ad993",
   "metadata": {},
   "outputs": [
    {
     "data": {
      "text/plain": [
       "(19368, 9)"
      ]
     },
     "execution_count": 49,
     "metadata": {},
     "output_type": "execute_result"
    }
   ],
   "source": [
    "X.shape"
   ]
  },
  {
   "cell_type": "code",
   "execution_count": 50,
   "id": "60fbb3a1",
   "metadata": {},
   "outputs": [
    {
     "data": {
      "text/plain": [
       "(19368,)"
      ]
     },
     "execution_count": 50,
     "metadata": {},
     "output_type": "execute_result"
    }
   ],
   "source": [
    "Y.shape"
   ]
  },
  {
   "cell_type": "code",
   "execution_count": 51,
   "id": "9d52571c",
   "metadata": {},
   "outputs": [
    {
     "data": {
      "text/plain": [
       "Index(['Age_of_the_patient', 'Total_Bilirubin', 'Direct_Bilirubin',\n",
       "       'Alkphos_Alkaline_Phosphotase', 'Sgpt_Alamine_Aminotransferase',\n",
       "       'Sgot_Aspartate_Aminotransferase', 'Total_Protiens', 'ALB_Albumin',\n",
       "       'AbyG_Ratio'],\n",
       "      dtype='object')"
      ]
     },
     "execution_count": 51,
     "metadata": {},
     "output_type": "execute_result"
    }
   ],
   "source": [
    "X.columns"
   ]
  },
  {
   "cell_type": "code",
   "execution_count": 52,
   "id": "487fedd9",
   "metadata": {},
   "outputs": [],
   "source": [
    "x_train,x_test,y_train,y_test=train_test_split(X,Y,test_size=0.3,random_state=99)"
   ]
  },
  {
   "cell_type": "code",
   "execution_count": 53,
   "id": "e771d1da",
   "metadata": {},
   "outputs": [
    {
     "name": "stdout",
     "output_type": "stream",
     "text": [
      "Accuracy: \n",
      " 0.5508518327310273\n",
      "[[1637 2543]\n",
      " [  67 1564]]\n",
      "              precision    recall  f1-score   support\n",
      "\n",
      "           1       0.96      0.39      0.56      4180\n",
      "           2       0.38      0.96      0.55      1631\n",
      "\n",
      "    accuracy                           0.55      5811\n",
      "   macro avg       0.67      0.68      0.55      5811\n",
      "weighted avg       0.80      0.55      0.55      5811\n",
      "\n"
     ]
    }
   ],
   "source": [
    "g = GaussianNB()\n",
    "g.fit(x_train, y_train)\n",
    "y_pred = g.predict(x_test)\n",
    "print('Accuracy: \\n', accuracy_score(y_test, y_pred))\n",
    "print(confusion_matrix(y_test,y_pred))\n",
    "print(classification_report(y_test,y_pred))"
   ]
  },
  {
   "cell_type": "code",
   "execution_count": 54,
   "id": "33e94c87",
   "metadata": {},
   "outputs": [
    {
     "name": "stdout",
     "output_type": "stream",
     "text": [
      "Accuracy: \n",
      " 0.7189812424711753\n",
      "Confusion Matrix :\n",
      " [[3968  212]\n",
      " [1421  210]] \n",
      "\n",
      "Classification Report :\n",
      "               precision    recall  f1-score   support\n",
      "\n",
      "           1       0.74      0.95      0.83      4180\n",
      "           2       0.50      0.13      0.20      1631\n",
      "\n",
      "    accuracy                           0.72      5811\n",
      "   macro avg       0.62      0.54      0.52      5811\n",
      "weighted avg       0.67      0.72      0.65      5811\n",
      " \n",
      "\n"
     ]
    }
   ],
   "source": [
    "lr=LogisticRegression()\n",
    "lr.fit(x_train, y_train)\n",
    "y_pred = lr.predict(x_test)\n",
    "print('Accuracy: \\n', accuracy_score(y_test,y_pred))\n",
    "print('Confusion Matrix :\\n',confusion_matrix(y_test,y_pred),'\\n')\n",
    "print('Classification Report :\\n',classification_report(y_test,y_pred),'\\n')"
   ]
  },
  {
   "cell_type": "code",
   "execution_count": 55,
   "id": "33a4c714",
   "metadata": {},
   "outputs": [
    {
     "name": "stdout",
     "output_type": "stream",
     "text": [
      "Accuracy: \n",
      " 0.9962140767509895\n",
      "Confusion Matrix :\n",
      " [[4176    4]\n",
      " [  18 1613]] \n",
      "\n",
      "Classification Report :\n",
      "               precision    recall  f1-score   support\n",
      "\n",
      "           1       1.00      1.00      1.00      4180\n",
      "           2       1.00      0.99      0.99      1631\n",
      "\n",
      "    accuracy                           1.00      5811\n",
      "   macro avg       1.00      0.99      1.00      5811\n",
      "weighted avg       1.00      1.00      1.00      5811\n",
      " \n",
      "\n"
     ]
    }
   ],
   "source": [
    "rf = RandomForestClassifier()\n",
    "rf.fit(x_train, y_train)\n",
    "y_pred = rf.predict(x_test)\n",
    "print('Accuracy: \\n', accuracy_score(y_test,y_pred))\n",
    "print('Confusion Matrix :\\n',confusion_matrix(y_test,y_pred),'\\n')\n",
    "print('Classification Report :\\n',classification_report(y_test,y_pred),'\\n')"
   ]
  },
  {
   "cell_type": "code",
   "execution_count": 56,
   "id": "6452ad8c",
   "metadata": {},
   "outputs": [
    {
     "name": "stdout",
     "output_type": "stream",
     "text": [
      "Neural Train Score: \n",
      " 72.07\n",
      "Neural Test Score: \n",
      " 72.35\n",
      "Accuracy: \n",
      " 0.7234555154018242\n",
      "[[4130 1557]\n",
      " [  50   74]]\n",
      "              precision    recall  f1-score   support\n",
      "\n",
      "           1       0.73      0.99      0.84      4180\n",
      "           2       0.60      0.05      0.08      1631\n",
      "\n",
      "    accuracy                           0.72      5811\n",
      "   macro avg       0.66      0.52      0.46      5811\n",
      "weighted avg       0.69      0.72      0.63      5811\n",
      "\n"
     ]
    }
   ],
   "source": [
    "from sklearn.neural_network import MLPClassifier\n",
    "from sklearn.metrics import roc_curve, auc, roc_auc_score, confusion_matrix\n",
    "neural = MLPClassifier()\n",
    "neural.fit(x_train, y_train)\n",
    "\n",
    "predicted = neural.predict(x_test)\n",
    "\n",
    "neural_score = round(neural.score(x_train, y_train) * 100, 2)\n",
    "neural_score_test = round(neural.score(x_test, y_test) * 100, 2)\n",
    "print('Neural Train Score: \\n', neural_score)\n",
    "print('Neural Test Score: \\n', neural_score_test)\n",
    "print('Accuracy: \\n', accuracy_score(y_test, predicted))\n",
    "print(confusion_matrix(predicted,y_test))\n",
    "print(classification_report(y_test,predicted))"
   ]
  },
  {
   "cell_type": "code",
   "execution_count": 57,
   "id": "43208a15",
   "metadata": {},
   "outputs": [
    {
     "name": "stdout",
     "output_type": "stream",
     "text": [
      "99.62140767509895\n"
     ]
    }
   ],
   "source": [
    "joblib.dump(rf,\"final.pkl\")\n",
    "final_model=joblib.load('final.pkl')\n",
    "pred=final_model.predict(x_test)\n",
    "acc=accuracy_score(y_test,pred,normalize=True)*float(100)\n",
    "print(acc)"
   ]
  }
 ],
 "metadata": {
  "kernelspec": {
   "display_name": "Python 3 (ipykernel)",
   "language": "python",
   "name": "python3"
  },
  "language_info": {
   "codemirror_mode": {
    "name": "ipython",
    "version": 3
   },
   "file_extension": ".py",
   "mimetype": "text/x-python",
   "name": "python",
   "nbconvert_exporter": "python",
   "pygments_lexer": "ipython3",
   "version": "3.6.9"
  }
 },
 "nbformat": 4,
 "nbformat_minor": 5
}
